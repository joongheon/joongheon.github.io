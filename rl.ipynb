{
  "nbformat": 4,
  "nbformat_minor": 0,
  "metadata": {
    "colab": {
      "name": "rl.ipynb",
      "provenance": []
    },
    "kernelspec": {
      "name": "python3",
      "display_name": "Python 3"
    },
    "language_info": {
      "name": "python"
    }
  },
  "cells": [
    {
      "cell_type": "code",
      "execution_count": null,
      "metadata": {
        "id": "8Q08VyiW3bgn",
        "outputId": "38e57edc-ebb2-44eb-b2f3-323faacff31a",
        "colab": {
          "base_uri": "https://localhost:8080/"
        }
      },
      "outputs": [
        {
          "output_type": "stream",
          "name": "stdout",
          "text": [
            "[[0. 1. 0. 0.]\n",
            " [0. 0. 0. 0.]\n",
            " [0. 1. 0. 0.]\n",
            " [0. 0. 0. 0.]\n",
            " [0. 1. 0. 0.]\n",
            " [0. 0. 0. 0.]\n",
            " [0. 1. 0. 0.]\n",
            " [0. 0. 0. 0.]\n",
            " [0. 0. 1. 0.]\n",
            " [0. 1. 0. 0.]\n",
            " [0. 1. 0. 0.]\n",
            " [0. 0. 0. 0.]\n",
            " [0. 0. 0. 0.]\n",
            " [0. 0. 1. 0.]\n",
            " [0. 0. 1. 0.]\n",
            " [0. 0. 0. 0.]]\n"
          ]
        }
      ],
      "source": [
        "import numpy as np\n",
        "import random\n",
        "Q = np.zeros([16,4])\n",
        "num_episodes = 1000\n",
        "\n",
        "def rargmax(vector):\n",
        "  m = np.amax(vector)\n",
        "  indices = np.nonzero(vector == m)[0]\n",
        "  return random.choice(indices)\n",
        "\n",
        "def RL_step(state,action):\n",
        "  # Computation: New State\n",
        "  if action == 0: # LEFT\n",
        "    if state % 4 == 0:\n",
        "      new_state = state\n",
        "    else:\n",
        "      new_state = state - 1\n",
        "  elif action == 1: # DOWN\n",
        "    if state > 11: \n",
        "      new_state = state\n",
        "    else:\n",
        "      new_state = state + 4\n",
        "  elif action == 2: # RIGHT\n",
        "    if (state+1)%4 == 0:\n",
        "      new_state = state\n",
        "    else:\n",
        "      new_state = state + 1\n",
        "  else: # UP\n",
        "    if state < 4:\n",
        "      new_state = state\n",
        "    else:\n",
        "      new_state = state - 4\n",
        "  # Computation: Reward \n",
        "  if new_state == 15:\n",
        "    reward = 1\n",
        "  elif (new_state == 5) or (new_state == 7) or (new_state == 11) or (new_state == 12):\n",
        "    new_state = state \n",
        "    reward = 0\n",
        "  else:\n",
        "    reward = 0\n",
        "  # Computation: Done\n",
        "  if new_state == 15:\n",
        "    done = True\n",
        "  else: \n",
        "    done = None\n",
        "  return new_state, reward, done\n",
        "\n",
        "for i in range(num_episodes):\n",
        "  state = 0\n",
        "  total_reward = 0\n",
        "  done = None\n",
        "\n",
        "  while not done:\n",
        "    action = rargmax(Q[state,:])\n",
        "    new_state, reward, done = RL_step(state, action)\n",
        "    Q[state, action] = reward + np.max(Q[new_state,:])\n",
        "    total_reward = total_reward + reward\n",
        "    state = new_state\n",
        "\n",
        "print(Q)"
      ]
    }
  ]
}